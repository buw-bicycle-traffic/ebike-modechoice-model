{
 "cells": [
  {
   "cell_type": "code",
   "execution_count": null,
   "id": "8363abb7",
   "metadata": {},
   "outputs": [],
   "source": [
    "import pandas as pd\n",
    "import numpy as np"
   ]
  },
  {
   "cell_type": "code",
   "execution_count": null,
   "id": "c825e082",
   "metadata": {},
   "outputs": [],
   "source": [
    "#open list of stops\n",
    "stops = pd.read_csv('C:/Users/arning/sciebo/04_Research/02_Current projects/2023_04_PLUG-IN/06_Data Delfi/Delfi/stops_epsg3035.csv')\n",
    "#stops"
   ]
  },
  {
   "cell_type": "code",
   "execution_count": null,
   "id": "4d2bb0bf",
   "metadata": {},
   "outputs": [],
   "source": [
    "#add row for number of departures\n",
    "stops['departures'] = 0\n",
    "#stops"
   ]
  },
  {
   "cell_type": "code",
   "execution_count": null,
   "id": "57ea09c0",
   "metadata": {},
   "outputs": [],
   "source": [
    "stop_times = pd.read_csv('C:/Users/arning/sciebo/04_Research/02_Current projects/2023_04_PLUG-IN/06_Data Delfi/Delfi/stop_times.txt', header=0)\n",
    "stop_times"
   ]
  },
  {
   "cell_type": "code",
   "execution_count": null,
   "id": "06925a06",
   "metadata": {},
   "outputs": [],
   "source": [
    "stop_id_counts = stop_times['stop_id'].value_counts()\n",
    "\n",
    "for stop_id, count in stop_id_counts.items():\n",
    "    stops.loc[stops['stop_id'] == stop_id, 'departures'] += count\n",
    "    \n",
    "stops    "
   ]
  },
  {
   "cell_type": "code",
   "execution_count": null,
   "id": "ad8bd71d",
   "metadata": {},
   "outputs": [],
   "source": [
    "#remove stops with 0 departures\n",
    "stops = stops[stops['departures']>0]\n",
    "stops"
   ]
  },
  {
   "cell_type": "code",
   "execution_count": null,
   "id": "8042eb1a",
   "metadata": {},
   "outputs": [],
   "source": [
    "stops.to_csv('C:/Users/arning/sciebo/04_Research/02_Current projects/2023_04_PLUG-IN/06_Data Delfi/Delfi/stops_departurecount.csv')"
   ]
  },
  {
   "cell_type": "code",
   "execution_count": null,
   "id": "fd4dba26",
   "metadata": {},
   "outputs": [],
   "source": [
    "#Now: processing 1km grid cells to allow for overlaying with stops in QGIS later\n",
    "cells_temp = pd.read_csv('C:/Users/arning/sciebo/04_Research/02_Current projects/2023_04_PLUG-IN/11_Mode Choice/1km_Raumtyp_Slope.csv', header=0, usecols = ['cellname','ycoord','xcoord'])\n",
    "\n",
    "\n",
    "#coordinates currently denominate south-western corner. To treat cells as points, shift coordinates 500m north and east\n",
    "cells_temp['ycoord']=cells_temp['ycoord']+500\n",
    "cells_temp['xcoord']=cells_temp['xcoord']+500\n",
    "\n",
    "cells_temp\n",
    "\n",
    "#save as csv for qgis\n",
    "cells_temp.to_csv('C:/Users/arning/sciebo/04_Research/02_Current projects/2023_04_PLUG-IN/06_Data Delfi/Delfi/1kmcells_mp.csv')"
   ]
  },
  {
   "cell_type": "code",
   "execution_count": null,
   "id": "6152839a",
   "metadata": {},
   "outputs": [],
   "source": [
    "# ~~~ number of stops is transferred from stops to 1km gridcells (2km radius around center) in QGIS ~~~ #"
   ]
  },
  {
   "cell_type": "code",
   "execution_count": null,
   "id": "764e3623",
   "metadata": {},
   "outputs": [],
   "source": [
    "#add number of stops to csv\n",
    "cells = pd.read_csv('C:/Users/arning/sciebo/04_Research/02_Current projects/2023_04_PLUG-IN/11_Mode Choice/1km_Raumtyp_Slope.csv')\n",
    "stops = pd.read_csv('C:/Users/arning/sciebo/04_Research/02_Current projects/2023_04_PLUG-IN/11_Mode Choice/1km_ptquality.csv')\n"
   ]
  },
  {
   "cell_type": "code",
   "execution_count": null,
   "id": "62610017",
   "metadata": {},
   "outputs": [],
   "source": [
    "cells['departures'] = cells['cellname'].map(stops.set_index('cellname')['departures_sum'])\n",
    "cells"
   ]
  },
  {
   "cell_type": "code",
   "execution_count": null,
   "id": "6d5bbe12",
   "metadata": {},
   "outputs": [],
   "source": [
    "cells.to_csv('C:/Users/arning/sciebo/04_Research/02_Current projects/2023_04_PLUG-IN/11_Mode Choice/1km_Raumtyp_Slope_ptqual.csv')"
   ]
  }
 ],
 "metadata": {
  "kernelspec": {
   "display_name": "Python 3 (ipykernel)",
   "language": "python",
   "name": "python3"
  },
  "language_info": {
   "codemirror_mode": {
    "name": "ipython",
    "version": 3
   },
   "file_extension": ".py",
   "mimetype": "text/x-python",
   "name": "python",
   "nbconvert_exporter": "python",
   "pygments_lexer": "ipython3",
   "version": "3.11.5"
  }
 },
 "nbformat": 4,
 "nbformat_minor": 5
}
